{
 "cells": [
  {
   "cell_type": "code",
   "execution_count": 28,
   "metadata": {},
   "outputs": [
    {
     "name": "stderr",
     "output_type": "stream",
     "text": [
      "[nltk_data] Downloading package punkt to /home/durgesh/nltk_data...\n",
      "[nltk_data]   Package punkt is already up-to-date!\n"
     ]
    },
    {
     "data": {
      "text/plain": [
       "True"
      ]
     },
     "execution_count": 28,
     "metadata": {},
     "output_type": "execute_result"
    }
   ],
   "source": [
    "import numpy as np\n",
    "from nltk import word_tokenize\n",
    "import re\n",
    "nltk.download('punkt')"
   ]
  },
  {
   "cell_type": "code",
   "execution_count": 48,
   "metadata": {},
   "outputs": [
    {
     "name": "stdout",
     "output_type": "stream",
     "text": [
      "[('moby dick', 7.8054608407863615), ('don t', 6.457520711602535), ('each other', 5.29112291652019), ('on board', 5.133522755544997), ('sperm whale', 4.968696897007122), ('i am', 4.4243443949213495), ('at last', 4.412141179902333), ('have been', 4.4016031853661355), ('white whale', 4.395164864541421), ('more than', 4.362668855263972), ('captain ahab', 4.345743789279762), ('old man', 4.33069595101553), ('had been', 4.326028612223056), ('right whale', 4.267983070025997), ('must have', 4.043451420817396), ('i ll', 4.00432188823082), ('so much', 3.9482862746748077), ('may be', 3.930883092585348), ('his own', 3.7697918571902234), ('must be', 3.763581888102409)]\n",
      "---------------------------------\n",
      "[('of that', 0.35530232354803587), ('that in', 0.3473672253405886), ('is the', 0.20294877733594363), ('of it', 0.18186245884434182), ('but the', 0.1339600523962658), ('to a', 0.12505071071543003), ('that the', 0.07112218965502046), ('to it', 0.057046756564184), ('and he', -0.005022828169485001), ('it to', -0.03476079268893883), ('was the', -0.0422029554044576), ('it and', -0.0915614887643861), ('and the', -0.14143707388691423), ('and that', -0.16649919266828855), ('and in', -0.21829393084921095), ('to that', -0.23399621327041836), ('not the', -0.2529624475189456), ('and a', -0.2807753285991551), ('be the', -0.3241262832235517), ('s the', -0.4377774628553912)]\n"
     ]
    }
   ],
   "source": [
    "with open('book.txt','r') as f :\n",
    "    book_txt = f.read()\n",
    "    word_tokens = word_tokenize(book_txt)\n",
    "    words = np.array([ word.lower() for word in word_tokens if re.match(r'\\w+$',word)])\n",
    "\n",
    "    freq_cnt = {}\n",
    "    for w in words:\n",
    "        if w not in freq_cnt:\n",
    "            freq_cnt[w]=0\n",
    "        freq_cnt[w]+=1\n",
    "        \n",
    "    bigram_word_tokens = [\" \".join([words[i],words[i+1]]) for i in range(len(words)-1)] \n",
    "    \n",
    "    freq_cnt_bi = {}\n",
    "    for w in bigram_word_tokens:\n",
    "        if w not in freq_cnt_bi:\n",
    "            freq_cnt_bi[w]=0\n",
    "        freq_cnt_bi[w]+=1\n",
    "    \n",
    "    pmi_scores = []\n",
    "    N = len(words)\n",
    "    pmi_scores={}\n",
    "    \n",
    "    for bi_w in freq_cnt_bi.keys():\n",
    "        fw,sw = bi_w.split(\" \")\n",
    "        if freq_cnt_bi[bi_w] > 50 :\n",
    "            prob_fw = freq_cnt[fw]/N\n",
    "            prob_sw = freq_cnt[sw]/N\n",
    "            prob_biw = freq_cnt_bi[bi_w]/(N-1)\n",
    "            pmi_score = np.log(prob_biw/(prob_fw*prob_sw))\n",
    "            pmi_scores[bi_w] = pmi_score\n",
    "\n",
    "    pmi_scores = list(pmi_scores.items())\n",
    "    pmi_scores.sort(reverse=True, key=lambda x : x[1])\n",
    "    print(pmi_scores[:20])\n",
    "    print(\"---------------------------------\")\n",
    "    print(pmi_scores[-20:])    "
   ]
  }
 ],
 "metadata": {
  "kernelspec": {
   "display_name": "Python 3",
   "language": "python",
   "name": "python3"
  },
  "language_info": {
   "codemirror_mode": {
    "name": "ipython",
    "version": 3
   },
   "file_extension": ".py",
   "mimetype": "text/x-python",
   "name": "python",
   "nbconvert_exporter": "python",
   "pygments_lexer": "ipython3",
   "version": "3.7.6"
  }
 },
 "nbformat": 4,
 "nbformat_minor": 4
}
